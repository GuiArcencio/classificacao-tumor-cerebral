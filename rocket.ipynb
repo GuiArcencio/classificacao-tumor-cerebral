{
 "cells": [
  {
   "cell_type": "code",
   "execution_count": 2,
   "metadata": {},
   "outputs": [],
   "source": [
    "import numpy as np\n",
    "import pandas as pd\n",
    "import matplotlib.pyplot as plt\n",
    "\n",
    "from sklearn.metrics import accuracy_score\n",
    "\n",
    "import torch\n",
    "from torch import tensor\n",
    "from torch.nn import Conv2d, Parameter\n",
    "from torch.utils.data import TensorDataset, Dataset, DataLoader, random_split\n",
    "\n",
    "from torchvision.transforms import Resize\n",
    "\n",
    "from gzip import GzipFile\n",
    "\n",
    "device = \"cuda\" if torch.cuda.is_available() else 'cpu'"
   ]
  },
  {
   "cell_type": "code",
   "execution_count": 3,
   "metadata": {},
   "outputs": [],
   "source": [
    "from os import listdir\n",
    "from gzip import GzipFile\n",
    "\n",
    "class FigshareDataset(Dataset):\n",
    "    label_to_string = [\n",
    "        \"meningioma\",\n",
    "        \"glioma\",\n",
    "        \"pituitary_tumor\"\n",
    "    ]\n",
    "\n",
    "    def __init__(\n",
    "        self,\n",
    "        folder=\"datasets/figshare\",\n",
    "        device=\"cpu\"\n",
    "    ):\n",
    "        self._folder = folder\n",
    "        self._device = device\n",
    "        self._length = \\\n",
    "            len(listdir(f\"{folder}/meningioma\")) + \\\n",
    "            len(listdir(f\"{folder}/glioma\")) + \\\n",
    "            len(listdir(f\"{folder}/pituitary_tumor\"))\n",
    "        self._labels = np.empty(self._length, dtype=int)\n",
    "        self._resizer = Resize((256, 256))\n",
    "\n",
    "        for img in listdir(f\"{folder}/meningioma\"):\n",
    "            idx = int(img.split(\".\")[0])\n",
    "            self._labels[idx-1] = 0\n",
    "        for img in listdir(f\"{folder}/glioma\"):\n",
    "            idx = int(img.split(\".\")[0])\n",
    "            self._labels[idx-1] = 1\n",
    "        for img in listdir(f\"{folder}/pituitary_tumor\"):\n",
    "            idx = int(img.split(\".\")[0])\n",
    "            self._labels[idx-1] = 2\n",
    "\n",
    "    def __len__(self):\n",
    "        return self._length\n",
    "    \n",
    "    def __getitem__(self, idx):\n",
    "        label = self._labels[idx]\n",
    "        tumor_type = self.label_to_string[label]\n",
    "\n",
    "        with GzipFile(f\"{self._folder}/{tumor_type}/{idx+1}.npy.gz\") as f:\n",
    "            data = np.load(f)\n",
    "\n",
    "        data = data / np.max(data)\n",
    "        data = data.astype(np.float32)\n",
    "        data = torch.tensor(data, dtype=torch.float32, device=self._device)\n",
    "        data = data.reshape((1, *data.shape))\n",
    "        data = self._resizer(data)\n",
    "\n",
    "        return data, label"
   ]
  },
  {
   "cell_type": "code",
   "execution_count": 28,
   "metadata": {},
   "outputs": [
    {
     "name": "stderr",
     "output_type": "stream",
     "text": [
      "GPU available: True (cuda), used: True\n",
      "TPU available: False, using: 0 TPU cores\n",
      "IPU available: False, using: 0 IPUs\n",
      "HPU available: False, using: 0 HPUs\n"
     ]
    },
    {
     "name": "stderr",
     "output_type": "stream",
     "text": [
      "LOCAL_RANK: 0 - CUDA_VISIBLE_DEVICES: [0]\n",
      "\n",
      "  | Name  | Type       | Params\n",
      "-------------------------------------\n",
      "0 | model | Sequential | 4.8 M \n",
      "-------------------------------------\n",
      "4.8 M     Trainable params\n",
      "0         Non-trainable params\n",
      "4.8 M     Total params\n",
      "19.280    Total estimated model params size (MB)\n"
     ]
    },
    {
     "name": "stdout",
     "output_type": "stream",
     "text": [
      "Epoch 0: 100%|██████████| 138/138 [00:07<00:00, 19.70it/s, v_num=1]         "
     ]
    },
    {
     "name": "stderr",
     "output_type": "stream",
     "text": [
      "Metric val_loss improved. New best score: 0.993\n"
     ]
    },
    {
     "name": "stdout",
     "output_type": "stream",
     "text": [
      "Epoch 2: 100%|██████████| 138/138 [00:06<00:00, 19.96it/s, v_num=1]"
     ]
    },
    {
     "name": "stderr",
     "output_type": "stream",
     "text": [
      "Metric val_loss improved by 0.015 >= min_delta = 0.0. New best score: 0.978\n"
     ]
    },
    {
     "name": "stdout",
     "output_type": "stream",
     "text": [
      "Epoch 3: 100%|██████████| 138/138 [00:06<00:00, 20.05it/s, v_num=1]"
     ]
    },
    {
     "name": "stderr",
     "output_type": "stream",
     "text": [
      "Metric val_loss improved by 0.016 >= min_delta = 0.0. New best score: 0.961\n"
     ]
    },
    {
     "name": "stdout",
     "output_type": "stream",
     "text": [
      "Epoch 4: 100%|██████████| 138/138 [00:06<00:00, 20.11it/s, v_num=1]"
     ]
    },
    {
     "name": "stderr",
     "output_type": "stream",
     "text": [
      "Metric val_loss improved by 0.005 >= min_delta = 0.0. New best score: 0.956\n"
     ]
    },
    {
     "name": "stdout",
     "output_type": "stream",
     "text": [
      "Epoch 8: 100%|██████████| 138/138 [00:06<00:00, 19.99it/s, v_num=1]"
     ]
    },
    {
     "name": "stderr",
     "output_type": "stream",
     "text": [
      "Metric val_loss improved by 0.002 >= min_delta = 0.0. New best score: 0.954\n"
     ]
    },
    {
     "name": "stdout",
     "output_type": "stream",
     "text": [
      "Epoch 9: 100%|██████████| 138/138 [00:06<00:00, 20.20it/s, v_num=1]"
     ]
    },
    {
     "name": "stderr",
     "output_type": "stream",
     "text": [
      "Metric val_loss improved by 0.004 >= min_delta = 0.0. New best score: 0.950\n"
     ]
    },
    {
     "name": "stdout",
     "output_type": "stream",
     "text": [
      "Epoch 11: 100%|██████████| 138/138 [00:06<00:00, 20.14it/s, v_num=1]"
     ]
    },
    {
     "name": "stderr",
     "output_type": "stream",
     "text": [
      "Metric val_loss improved by 0.003 >= min_delta = 0.0. New best score: 0.947\n"
     ]
    },
    {
     "name": "stdout",
     "output_type": "stream",
     "text": [
      "Epoch 12: 100%|██████████| 138/138 [00:06<00:00, 20.19it/s, v_num=1]"
     ]
    },
    {
     "name": "stderr",
     "output_type": "stream",
     "text": [
      "Metric val_loss improved by 0.011 >= min_delta = 0.0. New best score: 0.936\n"
     ]
    },
    {
     "name": "stdout",
     "output_type": "stream",
     "text": [
      "Epoch 14: 100%|██████████| 138/138 [00:06<00:00, 19.96it/s, v_num=1]"
     ]
    },
    {
     "name": "stderr",
     "output_type": "stream",
     "text": [
      "Metric val_loss improved by 0.015 >= min_delta = 0.0. New best score: 0.921\n"
     ]
    },
    {
     "name": "stdout",
     "output_type": "stream",
     "text": [
      "Epoch 18: 100%|██████████| 138/138 [00:06<00:00, 20.18it/s, v_num=1]"
     ]
    },
    {
     "name": "stderr",
     "output_type": "stream",
     "text": [
      "Metric val_loss improved by 0.017 >= min_delta = 0.0. New best score: 0.903\n"
     ]
    },
    {
     "name": "stdout",
     "output_type": "stream",
     "text": [
      "Epoch 20: 100%|██████████| 138/138 [00:06<00:00, 20.06it/s, v_num=1]"
     ]
    },
    {
     "name": "stderr",
     "output_type": "stream",
     "text": [
      "Metric val_loss improved by 0.022 >= min_delta = 0.0. New best score: 0.882\n"
     ]
    },
    {
     "name": "stdout",
     "output_type": "stream",
     "text": [
      "Epoch 27: 100%|██████████| 138/138 [00:06<00:00, 19.97it/s, v_num=1]"
     ]
    },
    {
     "name": "stderr",
     "output_type": "stream",
     "text": [
      "Metric val_loss improved by 0.004 >= min_delta = 0.0. New best score: 0.878\n"
     ]
    },
    {
     "name": "stdout",
     "output_type": "stream",
     "text": [
      "Epoch 28: 100%|██████████| 138/138 [00:06<00:00, 20.57it/s, v_num=1]"
     ]
    },
    {
     "name": "stderr",
     "output_type": "stream",
     "text": [
      "Metric val_loss improved by 0.010 >= min_delta = 0.0. New best score: 0.868\n"
     ]
    },
    {
     "name": "stdout",
     "output_type": "stream",
     "text": [
      "Epoch 29: 100%|██████████| 138/138 [00:06<00:00, 19.93it/s, v_num=1]"
     ]
    },
    {
     "name": "stderr",
     "output_type": "stream",
     "text": [
      "Metric val_loss improved by 0.013 >= min_delta = 0.0. New best score: 0.855\n"
     ]
    },
    {
     "name": "stdout",
     "output_type": "stream",
     "text": [
      "Epoch 32: 100%|██████████| 138/138 [00:07<00:00, 19.57it/s, v_num=1]"
     ]
    },
    {
     "name": "stderr",
     "output_type": "stream",
     "text": [
      "Metric val_loss improved by 0.004 >= min_delta = 0.0. New best score: 0.852\n"
     ]
    },
    {
     "name": "stdout",
     "output_type": "stream",
     "text": [
      "Epoch 33: 100%|██████████| 138/138 [00:06<00:00, 19.94it/s, v_num=1]"
     ]
    },
    {
     "name": "stderr",
     "output_type": "stream",
     "text": [
      "Metric val_loss improved by 0.001 >= min_delta = 0.0. New best score: 0.851\n"
     ]
    },
    {
     "name": "stdout",
     "output_type": "stream",
     "text": [
      "Epoch 39: 100%|██████████| 138/138 [00:06<00:00, 20.47it/s, v_num=1]"
     ]
    },
    {
     "name": "stderr",
     "output_type": "stream",
     "text": [
      "Metric val_loss improved by 0.004 >= min_delta = 0.0. New best score: 0.847\n"
     ]
    },
    {
     "name": "stdout",
     "output_type": "stream",
     "text": [
      "Epoch 42: 100%|██████████| 138/138 [00:06<00:00, 19.85it/s, v_num=1]"
     ]
    },
    {
     "name": "stderr",
     "output_type": "stream",
     "text": [
      "Metric val_loss improved by 0.005 >= min_delta = 0.0. New best score: 0.841\n"
     ]
    },
    {
     "name": "stdout",
     "output_type": "stream",
     "text": [
      "Epoch 44: 100%|██████████| 138/138 [00:06<00:00, 19.79it/s, v_num=1]"
     ]
    },
    {
     "name": "stderr",
     "output_type": "stream",
     "text": [
      "Metric val_loss improved by 0.012 >= min_delta = 0.0. New best score: 0.830\n"
     ]
    },
    {
     "name": "stdout",
     "output_type": "stream",
     "text": [
      "Epoch 55: 100%|██████████| 138/138 [00:06<00:00, 20.08it/s, v_num=1]"
     ]
    },
    {
     "name": "stderr",
     "output_type": "stream",
     "text": [
      "Monitored metric val_loss did not improve in the last 11 records. Best score: 0.830. Signaling Trainer to stop.\n"
     ]
    },
    {
     "name": "stdout",
     "output_type": "stream",
     "text": [
      "Epoch 55: 100%|██████████| 138/138 [00:07<00:00, 19.62it/s, v_num=1]\n"
     ]
    },
    {
     "name": "stderr",
     "output_type": "stream",
     "text": [
      "LOCAL_RANK: 0 - CUDA_VISIBLE_DEVICES: [0]\n"
     ]
    },
    {
     "name": "stdout",
     "output_type": "stream",
     "text": [
      "Predicting DataLoader 0: 100%|██████████| 20/20 [00:00<00:00, 29.52it/s]\n",
      "0.9055374592833876\n"
     ]
    }
   ],
   "source": [
    "import lightning as L\n",
    "import torch.nn as nn\n",
    "from torch.nn.functional import cross_entropy\n",
    "from torch.optim import Adam\n",
    "from torch.utils.data import Subset, random_split\n",
    "from sklearn.model_selection import StratifiedKFold\n",
    "from lightning.pytorch.callbacks.early_stopping import EarlyStopping\n",
    "\n",
    "class BadzaNetwork(L.LightningModule):\n",
    "    def __init__(\n",
    "        self,\n",
    "    ):\n",
    "        super().__init__()\n",
    "\n",
    "        self.model = nn.Sequential(\n",
    "            nn.Conv2d(\n",
    "                in_channels=1,\n",
    "                out_channels=16,\n",
    "                kernel_size=5,\n",
    "            ),\n",
    "            nn.ReLU(),\n",
    "            nn.Dropout(0.5),\n",
    "            nn.MaxPool2d(\n",
    "                kernel_size=2,\n",
    "                stride=2,\n",
    "            ),\n",
    "\n",
    "            nn.Conv2d(\n",
    "                in_channels=16,\n",
    "                out_channels=32,\n",
    "                kernel_size=3,\n",
    "                stride=2,\n",
    "            ),\n",
    "            nn.ReLU(),\n",
    "            nn.Dropout(0.5),\n",
    "            nn.MaxPool2d(\n",
    "                kernel_size=2,\n",
    "                stride=2,\n",
    "            ),\n",
    "\n",
    "            nn.Conv2d(\n",
    "                in_channels=32,\n",
    "                out_channels=64,\n",
    "                kernel_size=3,\n",
    "                stride=1,\n",
    "            ),\n",
    "            nn.ReLU(),\n",
    "            nn.Dropout(0.5),\n",
    "            nn.MaxPool2d(\n",
    "                kernel_size=2,\n",
    "                stride=2,\n",
    "            ),\n",
    "\n",
    "            nn.Conv2d(\n",
    "                in_channels=64,\n",
    "                out_channels=128,\n",
    "                kernel_size=3,\n",
    "                stride=1,\n",
    "            ),\n",
    "            nn.ReLU(),\n",
    "            nn.Dropout(0.5),\n",
    "            nn.MaxPool2d(\n",
    "                kernel_size=2,\n",
    "                stride=2,\n",
    "            ),\n",
    "\n",
    "            nn.Flatten(start_dim=-3),\n",
    "            nn.Linear(\n",
    "                in_features=4608,\n",
    "                out_features=1024\n",
    "            ),\n",
    "            nn.ReLU(),\n",
    "            nn.Linear(\n",
    "                in_features=1024,\n",
    "                out_features=3\n",
    "            ),\n",
    "            nn.Softmax(dim=-1)\n",
    "        )\n",
    "\n",
    "        self.learning_rate = 0.0004\n",
    "\n",
    "    def configure_optimizers(self):\n",
    "        return Adam(\n",
    "            self.parameters(),\n",
    "            lr=self.learning_rate,\n",
    "            weight_decay=0.004\n",
    "        )\n",
    "    \n",
    "    def forward(self, input):\n",
    "        return self.model.forward(input)\n",
    "    \n",
    "    def training_step(self, batch):\n",
    "        input_i, label_i = batch\n",
    "        output_i = self.forward(input_i)\n",
    "        loss = cross_entropy(output_i, label_i)\n",
    "\n",
    "        return loss\n",
    "    \n",
    "    def validation_step(self, batch):\n",
    "        input_i, label_i = batch\n",
    "        output_i = self.forward(input_i)\n",
    "        loss = cross_entropy(output_i, label_i)\n",
    "\n",
    "        self.log(\"val_loss\", loss)\n",
    "\n",
    "        return loss\n",
    "\n",
    "    \n",
    "    def predict_step(self, batch):\n",
    "        input_i, y_true = batch\n",
    "\n",
    "        y_pred = torch.argmax(self.forward(input_i), 1)\n",
    "\n",
    "        return (y_true, y_pred)\n",
    "\n",
    "\n",
    "model = BadzaNetwork()\n",
    "dataset = FigshareDataset()\n",
    "\n",
    "cv = StratifiedKFold(n_splits=10, shuffle=True, random_state=42)\n",
    "for train_idx, test_idx in cv.split(dataset, dataset._labels):\n",
    "    train_dataset = Subset(dataset, train_idx)\n",
    "    test_dataset = Subset(dataset, test_idx)\n",
    "\n",
    "    train_dataset, val_dataset = random_split(train_dataset, [0.8, 0.2])\n",
    "\n",
    "    train_loader = DataLoader(\n",
    "        train_dataset,\n",
    "        batch_size=16,\n",
    "        num_workers=2,\n",
    "        pin_memory=True,\n",
    "        pin_memory_device=\"cuda\",\n",
    "        shuffle=True,\n",
    "    )\n",
    "    val_loader = DataLoader(\n",
    "        val_dataset,\n",
    "        batch_size=16,\n",
    "        num_workers=2,\n",
    "        pin_memory=True,\n",
    "        pin_memory_device=\"cuda\",\n",
    "        shuffle=False,\n",
    "    )\n",
    "    test_loader = DataLoader(\n",
    "        test_dataset,\n",
    "        batch_size=16,\n",
    "        num_workers=2,\n",
    "        pin_memory=True,\n",
    "        pin_memory_device=\"cuda\",\n",
    "        shuffle=False,\n",
    "    )\n",
    "\n",
    "    trainer = L.Trainer(\n",
    "        max_epochs=100,\n",
    "        accelerator=\"gpu\",\n",
    "        callbacks=[\n",
    "            EarlyStopping(\n",
    "                monitor=\"val_loss\",\n",
    "                patience=11,\n",
    "                verbose=True,\n",
    "                strict=True,\n",
    "                mode=\"min\",\n",
    "            )\n",
    "        ]\n",
    "    )\n",
    "\n",
    "    trainer.fit(model, train_dataloaders=train_loader, val_dataloaders=val_loader)\n",
    "    model.eval()\n",
    "\n",
    "    y_true = []\n",
    "    y_pred = []\n",
    "    predictions = trainer.predict(model, test_loader)\n",
    "    for (yi_true, yi_pred) in predictions:\n",
    "        yi_true = yi_true.numpy(force=True)\n",
    "        yi_pred = yi_pred.numpy(force=True)\n",
    "\n",
    "        y_true.append(yi_true)\n",
    "        y_pred.append(yi_pred)\n",
    "\n",
    "    y_true = np.hstack(y_true)\n",
    "    y_pred = np.hstack(y_pred)\n",
    "\n",
    "    print(accuracy_score(y_true, y_pred))\n",
    "\n",
    "    break"
   ]
  },
  {
   "cell_type": "code",
   "execution_count": 22,
   "metadata": {},
   "outputs": [],
   "source": [
    "from sklearn.linear_model import RidgeClassifierCV\n",
    "\n",
    "class Rocket:\n",
    "    def __init__(\n",
    "        self,\n",
    "        n_filters=10000,\n",
    "        batch_size=128,\n",
    "        device=\"cpu\",\n",
    "        seed=None\n",
    "    ):\n",
    "        self._n_filters = n_filters\n",
    "        self._device = device\n",
    "        self._classifier = RidgeClassifierCV()\n",
    "        self._batch_size = batch_size\n",
    "        self._kernels = []\n",
    "        self._rng = np.random.default_rng(seed)\n",
    "\n",
    "    def fit(self, dataset):\n",
    "        _, height, width = dataset[0][0].shape\n",
    "        assert height == width, \"Input images must be square\"\n",
    "\n",
    "        for _ in range(self._n_filters):\n",
    "            length = self._rng.choice([7, 9, 11])\n",
    "\n",
    "            weights = np.empty((1, 1, length, length), dtype=np.float32)\n",
    "            weights[0,0,:,:] = self._rng.normal(size=(length, length))\n",
    "            weights[0,0,:,:] = weights[0,0,:,:] - np.mean(weights[0,0,:,:])\n",
    "            weights = tensor(weights, dtype=torch.float32, device=self._device)\n",
    "            weights = Parameter(weights, requires_grad=False)\n",
    "\n",
    "            bias = self._rng.uniform(-1, 1, size=(1,))\n",
    "            bias = tensor(bias, dtype=torch.float32, device=self._device)\n",
    "            bias = Parameter(bias, requires_grad=False)\n",
    "\n",
    "            # CHANGE: different pdilations for H and W\n",
    "            # a_h = np.log2((height - 1) / (length - 1))\n",
    "            # a_w = np.log2((width - 1) / (length - 1))\n",
    "            # dilation_h = np.floor(2**self._rng.uniform(0, a_h)).astype(int)\n",
    "            # dilation_w = np.floor(2**self._rng.uniform(0, a_w)).astype(int)\n",
    "\n",
    "            max_exponent = np.log2((height - 1) / (length - 1))\n",
    "            dilation = np.floor(2**self._rng.uniform(0, max_exponent)).astype(int)\n",
    "\n",
    "            padding = self._rng.choice([\"valid\", \"same\"])\n",
    "\n",
    "            kernel = Conv2d(\n",
    "                1, 1, length,\n",
    "                padding=padding,\n",
    "                #dilation=(dilation_h, dilation_w),\n",
    "                dilation=dilation,\n",
    "                device=self._device\n",
    "            )\n",
    "            kernel.weight = weights\n",
    "            kernel.bias = bias\n",
    "\n",
    "            self._kernels.append(kernel)\n",
    "\n",
    "        transformed_dataset, labels = self.transform(dataset)\n",
    "\n",
    "        self._classifier.fit(transformed_dataset, labels)\n",
    "\n",
    "        return self\n",
    "            \n",
    "    def predict(self, dataset, return_true_labels=False):\n",
    "        transformed_dataset, real_labels = self.transform(dataset)\n",
    "\n",
    "        if return_true_labels:\n",
    "            return real_labels, self._classifier.predict(transformed_dataset)\n",
    "        \n",
    "        return self._classifier.predict(transformed_dataset)\n",
    "\n",
    "    def transform(self, dataset):\n",
    "        loader = DataLoader(\n",
    "            dataset,\n",
    "            batch_size=self._batch_size,\n",
    "            shuffle=False,\n",
    "        )\n",
    "        transformed_dataset = np.empty((len(dataset), self._n_filters * 2))\n",
    "        transformed_labels = np.empty(len(dataset), dtype=int)\n",
    "\n",
    "        for batch_idx, (imgs, labels) in enumerate(loader):\n",
    "            idx_start = batch_idx * self._batch_size\n",
    "            idx_end = idx_start + labels.shape[0]\n",
    "            data_idx = np.arange(idx_start, idx_end)\n",
    "\n",
    "            for i, kernel in enumerate(self._kernels):\n",
    "                convolutions = kernel(imgs)\n",
    "                _, _, conv_h, conv_w = convolutions.shape\n",
    "\n",
    "                max_pool = convolutions.amax(dim=(1,2,3))\n",
    "\n",
    "                ppv_pool = convolutions.gt(0).sum(dim=(1,2,3)) / (conv_h * conv_w)\n",
    "\n",
    "                transformed_dataset[data_idx, 2*i] = max_pool.numpy(force=True)\n",
    "                transformed_dataset[data_idx, 2*i + 1] = ppv_pool.numpy(force=True)\n",
    "\n",
    "            transformed_labels[data_idx] = labels.numpy(force=True)\n",
    "\n",
    "        return transformed_dataset, transformed_labels"
   ]
  },
  {
   "cell_type": "code",
   "execution_count": 5,
   "metadata": {},
   "outputs": [
    {
     "ename": "NameError",
     "evalue": "name 'Rocket' is not defined",
     "output_type": "error",
     "traceback": [
      "\u001b[0;31m---------------------------------------------------------------------------\u001b[0m",
      "\u001b[0;31mNameError\u001b[0m                                 Traceback (most recent call last)",
      "Cell \u001b[0;32mIn[5], line 4\u001b[0m\n\u001b[1;32m      1\u001b[0m dataset \u001b[38;5;241m=\u001b[39m FigshareDataset(device\u001b[38;5;241m=\u001b[39mdevice)\n\u001b[1;32m      2\u001b[0m train_dataset, test_dataset \u001b[38;5;241m=\u001b[39m random_split(dataset, [\u001b[38;5;241m0.7\u001b[39m, \u001b[38;5;241m0.3\u001b[39m])\n\u001b[0;32m----> 4\u001b[0m model \u001b[38;5;241m=\u001b[39m \u001b[43mRocket\u001b[49m(n_filters\u001b[38;5;241m=\u001b[39m\u001b[38;5;241m100\u001b[39m, device\u001b[38;5;241m=\u001b[39mdevice, seed\u001b[38;5;241m=\u001b[39m\u001b[38;5;28;01mNone\u001b[39;00m)\n\u001b[1;32m      5\u001b[0m model\u001b[38;5;241m.\u001b[39mfit(train_dataset)\n\u001b[1;32m      6\u001b[0m y_true, y_pred \u001b[38;5;241m=\u001b[39m model\u001b[38;5;241m.\u001b[39mpredict(test_dataset, return_true_labels\u001b[38;5;241m=\u001b[39m\u001b[38;5;28;01mTrue\u001b[39;00m)\n",
      "\u001b[0;31mNameError\u001b[0m: name 'Rocket' is not defined"
     ]
    }
   ],
   "source": [
    "dataset = FigshareDataset(device=device)\n",
    "train_dataset, test_dataset = random_split(dataset, [0.7, 0.3])\n",
    "\n",
    "model = Rocket(n_filters=100, device=device, seed=None)\n",
    "model.fit(train_dataset)\n",
    "y_true, y_pred = model.predict(test_dataset, return_true_labels=True)\n",
    "accuracy_score(y_true, y_pred)"
   ]
  },
  {
   "cell_type": "code",
   "execution_count": 166,
   "metadata": {},
   "outputs": [],
   "source": [
    "# TODO: check license stuff\n",
    "# Adapted from https://github.com/angus924/minirocket\n",
    "from itertools import combinations\n",
    "from sklearn.linear_model import RidgeClassifierCV\n",
    "\n",
    "class MiniRocket:\n",
    "    def __init__(\n",
    "        self,\n",
    "        n_features=10000,\n",
    "        max_dilations_per_kernel=32,\n",
    "        batch_size=128,\n",
    "        device=\"cpu\",\n",
    "        seed=None\n",
    "    ):\n",
    "        self._n_features = n_features\n",
    "        self._max_dilations_per_kernel = max_dilations_per_kernel\n",
    "        self._device = device\n",
    "        self._classifier = RidgeClassifierCV()\n",
    "        self._batch_size = batch_size\n",
    "        self._rng = np.random.default_rng(seed)\n",
    "\n",
    "    def _build_kernels(self, dataset, input_size, dilations, n_features_per_dilation, quantiles):\n",
    "        n_examples = len(dataset)\n",
    "        indices = np.array([_ for _ in combinations(np.arange(9), 3)], dtype=np.int32)\n",
    "\n",
    "        n_kernels = len(indices)\n",
    "        n_dilations = len(dilations)\n",
    "        self._n_features = n_kernels * np.sum(n_features_per_dilation)\n",
    "\n",
    "        paddings = [\"valid\", \"same\"]\n",
    "        padding_i = 0\n",
    "        feature_index_start = 0\n",
    "        for dilation_index in range(n_dilations):\n",
    "            dilation = dilations[dilation_index]\n",
    "            n_features_this_dilation = n_features_per_dilation[dilation_index]\n",
    "\n",
    "            for kernel_index in range(n_kernels):\n",
    "                feature_index_end = feature_index_start + n_features_this_dilation\n",
    "\n",
    "                weights = np.repeat(-1., 9).astype(np.float32)\n",
    "                weights[indices[kernel_index]] = -2\n",
    "                weights = weights.reshape((1, 1, 3, 3))\n",
    "                weights = tensor(weights, dtype=torch.float32, device=self._device)\n",
    "                weights = Parameter(weights, requires_grad=False)\n",
    "\n",
    "                kernel = Conv2d(\n",
    "                    in_channels=1,\n",
    "                    out_channels=1,\n",
    "                    kernel_size=3,\n",
    "                    padding=paddings[padding_i],\n",
    "                    dilation=dilation,\n",
    "                    bias=False,\n",
    "                    device=self._device\n",
    "                )\n",
    "                kernel.weight = weights\n",
    "\n",
    "                random_example, _ = dataset[self._rng.integers(n_examples)]\n",
    "                random_conv = kernel(random_example)\n",
    "\n",
    "                this_quantiles = quantiles[feature_index_start:feature_index_end]\n",
    "                this_quantiles = tensor(this_quantiles, dtype=torch.float32, device=self._device)\n",
    "                bias = torch.quantile(random_conv, this_quantiles)\n",
    "\n",
    "                self._kernels.append(kernel)\n",
    "                self._biases.append(bias)\n",
    "\n",
    "                feature_index_start = feature_index_end\n",
    "                padding_i = (padding_i + 1) % 2             \n",
    "\n",
    "    def fit(self, dataset):\n",
    "        _, height, width = dataset[0][0].shape\n",
    "        assert height == width, \"Input images must be square\"\n",
    "\n",
    "        n_kernels = 84\n",
    "        n_features_per_kernel = self._n_features // n_kernels\n",
    "        true_max_dilations_per_kernel = min(n_features_per_kernel, self._max_dilations_per_kernel)\n",
    "        multiplier = n_features_per_kernel / true_max_dilations_per_kernel\n",
    "\n",
    "        max_exponent = np.log2((height - 1) / (9 - 1))\n",
    "        dilations, n_features_per_dilation = \\\n",
    "        np.unique(np.logspace(0, max_exponent, true_max_dilations_per_kernel, base = 2).astype(np.int32), return_counts = True)\n",
    "        n_features_per_dilation = (n_features_per_dilation * multiplier).astype(np.int32) # this is a vector\n",
    "\n",
    "        remainder = n_features_per_kernel - np.sum(n_features_per_dilation)\n",
    "        i = 0\n",
    "        while remainder > 0:\n",
    "            n_features_per_dilation[i] += 1\n",
    "            remainder -= 1\n",
    "            i = (i + 1) % len(n_features_per_dilation)\n",
    "\n",
    "        n_features_per_kernel = np.sum(n_features_per_dilation)\n",
    "\n",
    "        n_quantiles = n_kernels * n_features_per_kernel\n",
    "        quantiles = np.array([(_ * ((np.sqrt(5) + 1) / 2)) % 1 for _ in range(1, n_quantiles + 1)], dtype = np.float32)\n",
    "\n",
    "        self._kernels = []\n",
    "        self._biases = []\n",
    "        self._build_kernels(dataset, height, dilations, n_features_per_dilation, quantiles)\n",
    "\n",
    "        transformed_dataset, real_labels = self.transform(dataset)\n",
    "\n",
    "        self._classifier.fit(transformed_dataset, real_labels)\n",
    "\n",
    "        return self\n",
    "            \n",
    "    def predict(self, dataset, return_true_labels=False):\n",
    "        transformed_dataset, real_labels = self.transform(dataset)\n",
    "\n",
    "        if return_true_labels:\n",
    "            return real_labels, self._classifier.predict(transformed_dataset)\n",
    "        \n",
    "        return self._classifier.predict(transformed_dataset)\n",
    "\n",
    "    def transform(self, dataset):\n",
    "        loader = DataLoader(\n",
    "            dataset,\n",
    "            batch_size=self._batch_size,\n",
    "            shuffle=False,\n",
    "        )\n",
    "        transformed_dataset = np.empty((len(dataset), self._n_features))\n",
    "        transformed_labels = np.empty(len(dataset), dtype=int)\n",
    "\n",
    "        for batch_idx, (imgs, labels) in enumerate(loader):\n",
    "            idx_start = batch_idx * self._batch_size\n",
    "            idx_end = idx_start + labels.shape[0]\n",
    "            data_idx = np.arange(idx_start, idx_end)\n",
    "            feature_idx = 0\n",
    "\n",
    "            for kernel, biases in zip(self._kernels, self._biases):\n",
    "                convolutions = kernel(imgs)\n",
    "                _, _, conv_h, conv_w = convolutions.shape\n",
    "                for i in range(biases.shape[0]):\n",
    "                    results = convolutions - biases[i]\n",
    "\n",
    "                    ppv_pool = results.gt(0).sum(dim=(1,2,3)) / (conv_h * conv_w)\n",
    "\n",
    "                    transformed_dataset[data_idx, feature_idx] = ppv_pool.numpy(force=True)\n",
    "\n",
    "                    feature_idx += 1\n",
    "\n",
    "            transformed_labels[data_idx] = labels.numpy(force=True)\n",
    "\n",
    "        return transformed_dataset, transformed_labels"
   ]
  },
  {
   "cell_type": "code",
   "execution_count": 174,
   "metadata": {},
   "outputs": [
    {
     "data": {
      "text/plain": [
       "0.9390642002176278"
      ]
     },
     "execution_count": 174,
     "metadata": {},
     "output_type": "execute_result"
    }
   ],
   "source": [
    "dataset = figshare\n",
    "train_dataset, test_dataset = random_split(dataset, [0.7, 0.3])\n",
    "\n",
    "model = MiniRocket(n_features=10000, device=device, seed=None)\n",
    "model.fit(train_dataset)\n",
    "y_true, y_pred = model.predict(test_dataset, return_true_labels=True)\n",
    "accuracy_score(y_true, y_pred)\n"
   ]
  }
 ],
 "metadata": {
  "kernelspec": {
   "display_name": "env",
   "language": "python",
   "name": "python3"
  },
  "language_info": {
   "codemirror_mode": {
    "name": "ipython",
    "version": 3
   },
   "file_extension": ".py",
   "mimetype": "text/x-python",
   "name": "python",
   "nbconvert_exporter": "python",
   "pygments_lexer": "ipython3",
   "version": "3.10.12"
  }
 },
 "nbformat": 4,
 "nbformat_minor": 2
}
